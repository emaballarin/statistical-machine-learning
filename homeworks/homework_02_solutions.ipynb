{
 "cells": [
  {
   "cell_type": "markdown",
   "metadata": {},
   "source": [
    "## Homework 02\n",
    "#### [An attempt to solution](https://github.com/emaballarin/statistical-machine-learning/blob/master/homeworks/homework_02_solutions.ipynb) by [Emanuele Ballarin](mailto:emanuele@ballarin.cc)"
   ]
  },
  {
   "cell_type": "markdown",
   "metadata": {},
   "source": [
    "### Exercise 1\n",
    "\n",
    "One half percent of the population has *coronavirus* and a test is being developed. This test gives a false positive $3\\%$ of the time and a false negative $2\\%$ of the time. \n",
    "\n",
    "1. Find the probability that Luca is positive to the test.\n",
    "2. Suppose Luca is positive to the test. What is the probability that he has contracted the disease?\n",
    "\n",
    "#### Solution:\n",
    "\n",
    "For the sake of clarity in the analysis that follows, it is important to state some hypotheses, preliminarly:\n",
    "\n",
    "-   *Luca* is assumed to be part of *the population* mentioned, and, furthermore, it is assumed that he has been chosen among it in such way that guarantees he is a *representative sample* of such *population*. This is equivalent to hypothesize that Luca is a randomly-picked member of the population.\n",
    "-   The same – *mutatis mutandis* – is assumed to hold also for *the eventual test* administered to Luca. This is equivalent to state that – whichever specific test *kit* is utilized to perform the test on Luca – it is hypothesized that such *kit* is randomly-picked among all those available (in the case *FPR* and *FNR* depend on built-in characteristics) or that the test behaves equivalently to that regard (otherwise).\n",
    "\n",
    "Such hypotheses allow to conclude that:\n",
    "\n",
    "-   The probability *Luca* has *coronavirus* is the fraction of total population, which *Luca* belongs to, that has *coronavirus*.\n",
    "-   The probability that a *positive* result of the test is *false* – or that a *negative* result of the test is *false* – is the test *FPR* – or *FNR*, respectively.\n",
    "\n",
    "This, in addition to the *definition-derived* facts that:\n",
    "\n",
    "-   Every person either *has* or *has not* *coronavirus*;\n",
    "-   A test for *coronavirus* either has *positive* or *negative* outcome;\n",
    "-   A *non-false* positive (or negative) is a *true* positive (or negative);\n",
    "\n",
    "allows us to formalize the problem as follows.\n",
    "\n",
    "**As far as a person is concerned:**\n",
    "\n",
    "-   $x = x_{virus} \\in \\{0,1\\}$ is the binary r.v. modelling the fact that such person has *coronavirus*.\n",
    "    Specifically: $x_{virus} = 1$ if the person has *coronavirus*; $x_{virus} = 0$ if they have not.\n",
    "-   $p_{virus} = P(x_{virus} = 1) = 0.5\\% = \\frac{0.5}{100} = \\frac{1}{200} = 0.005$\n",
    "-   Consequently: $p_{healthy} = P(x_{virus} = 0) = 1-p_{virus} = 0.995$\n",
    "\n",
    "**As far as the test is concerned:**\n",
    "\n",
    "-   $FPR = 0.03$\n",
    "-   $FNR = 0.02$\n",
    "\n",
    "Meaning that, if:\n",
    "\n",
    "-   $y = y_{positive} \\in \\{0,1\\}$ is the binary r.v. modelling the fact that a test for *coronavirus* is *positive*.\n",
    "    Specifically: $y_{positive} = 1$ if the test is positive; .$y_{positive} = 0$ if the test is negative.\n",
    "-   $p_{positive} = P(y_{positive} = 1)$\n",
    "-   $p_{negative} = P(y_{positive} = 0) = 1- p_{positive}$\n",
    "\n",
    "then, assuming $x$ refers to a person and $y$ to the test given to such person:\n",
    "\n",
    "-   $P( y_{positive} = 1\\ |\\ x_{virus} = 0) = FPR = 0.03$\n",
    "-   $P(y_{positive} = 0\\ |\\ x_{virus} = 1) = FNR = 0.02$.\n",
    "\n",
    "Consequently:\n",
    "\n",
    "-   $P(y_{positive} = 1\\ |\\ x_{virus} = 1) = TPR = 1-FPR = 0.97$\n",
    "-   $P(y_{positive} = 0\\ |\\ x_{virus} = 0) = TNR = 1-FNR = 0.98$\n",
    "\n",
    "***Answer to q. 1:***\n",
    "\n",
    "If Luca is positive to the test, it is so because either:\n",
    "\n",
    "-   Luca has coronavirus, and the result of the test is (a true) positive: $P(x=1, y=1)$\n",
    "-   Luca has not coronavirus, and the result is (a false) positive: $P(x=0, y=1)$\n",
    "\n",
    "We can now use the definition of conditional probability mass function, i.e. $P(y|x) = \\frac{p(x,y)}{p(x)}$, from which we obtain $P(x,y) = p(x)\\ p(y|x)$. And we can sum over all possible values of $x$ in the parameter space.\n",
    "\n",
    "That means $P(y=1) = P(x=1, y=1) + P(x=0, y=1) = p_{virus}\\cdot TPR \\ +\\ p_{healthy}\\cdot FPR \\\\= 0.005 \\times 0.97 + 0.995 \\times 0.03 = 0.0347$\n",
    "\n",
    "***Answer to q. 2:***\n",
    "\n",
    "Knowing that Luca is positive to the test, we can compute the required probability via the *Bayes’ Theorem* result:\n",
    "\n",
    "$P(x=1 \\ |\\ y=1) = \\frac{P(y=1\\ |\\ x = 1) \\ P(x=1)}{P(y=1)} = \\frac{0.97 \\times 0.005}{0.0347} = 0.140$."
   ]
  },
  {
   "cell_type": "markdown",
   "metadata": {},
   "source": [
    "### Exercise 2\n",
    "\n",
    "Implement the empirical cumulative distribution function $F_X(x)=$ `cdf(dist, x)` taking as inputs a `pyro.distributions` object `dist`, corresponding to the distribution of $X$, and a real value `x`.\n",
    "\n",
    "Suppose that $X\\sim \\mathcal{N}(0,1)$ and plot $F_X(x)$.\n",
    "\n",
    "#### Solution\n",
    "\n",
    "**Preliminary note about code efficiency, code duplication and CDF monotonicity:**  \n",
    "In the algorithmic choices required to tackle a relatively simple problem such as empirical CDF computation, a main issue may arise.\n",
    "Notwithstanding the fact we are explicitly computing an *empirical CDF*, we know from basic maths that the *true CDF* must be at least weakly monotonic. Such property may be not guaranteed in the *sampling-based* computation of an *eCDF* in the case its point-values are determined via binary splitting (and subsequent counting) of the support of the PDF. It may happen, in fact, that for *sufficiently close* points – regardless of the high sample size – the number of samples occurring at the left of the split-point and at its right may decrease even if the split point shifts right in the support of the PDF.\n",
    "Such problem my be tackled via *cache-based* solutions (*LRU* mainly), which amortize the efficiency penalty required by a full-support binning and eCDF computation and enforce monotonicity of the eCDF. The price is the lack of true randomness in subsequent function calls (except when requested, at the cost of performance).\n",
    "Another solution – which will be employed here – consists in the duplication of code and function(s) for the two purposes of computing accurate and efficient point-values of the eCDF and computing its full histogram.\n",
    "In case of need, the full histogram may also be used when close point-value evaluations of the (same) eCDF must be performed."
   ]
  },
  {
   "cell_type": "code",
   "execution_count": 1,
   "metadata": {},
   "outputs": [],
   "source": [
    "# IMPORTS (once and for all!)\n",
    "import numpy as np\n",
    "import matplotlib.pyplot as plt\n",
    "import seaborn as sns\n",
    "\n",
    "import torch as th\n",
    "import pyro\n",
    "from pyro import distributions\n",
    "\n",
    "\n",
    "# Be reproducible\n",
    "pyro.set_rng_seed(6544)"
   ]
  },
  {
   "cell_type": "code",
   "execution_count": 2,
   "metadata": {},
   "outputs": [],
   "source": [
    "def cdf(dist, x, samplesize=10000):\n",
    "    return float(np.count_nonzero(dist([samplesize]).numpy() <= x)) / samplesize\n",
    "\n",
    "\n",
    "def plot_histcdf(dist, samplesize=10000, unif_bins=250):\n",
    "    normcounts, edges = np.histogram(dist([samplesize]), unif_bins, density=False)\n",
    "    plt.plot(edges[1:], np.cumsum(normcounts) / np.sum(normcounts))\n",
    "    plt.show()"
   ]
  },
  {
   "cell_type": "code",
   "execution_count": 3,
   "metadata": {},
   "outputs": [
    {
     "name": "stdout",
     "output_type": "stream",
     "text": [
      "0.5051\n"
     ]
    },
    {
     "data": {
      "image/png": "[encoded data removed]",
      "text/plain": [
       "<Figure size 432x288 with 1 Axes>"
      ]
     },
     "metadata": {
      "needs_background": "light"
     },
     "output_type": "display_data"
    }
   ],
   "source": [
    "# A test for cdf()\n",
    "foo = distributions.Uniform(0.0, 10.0)\n",
    "print(cdf(foo, 5.0))\n",
    "\n",
    "# The answer to what has been asked\n",
    "bar = distributions.Normal(0.0, 1.0)\n",
    "plot_histcdf(bar)"
   ]
  },
  {
   "cell_type": "markdown",
   "metadata": {},
   "source": [
    "### Exercise 3\n",
    "\n",
    "Suppose the heights of male students are normally distributed with mean $180$ and unknown variance $\\sigma^2$. Suppose that $\\sigma^2$ is in the range $[22,41]$ with approximately $95\\%$ probability and assign to $\\sigma^2$ an inverse-gamma $IG(38,1110)$ prior distribution .\n",
    "\n",
    "1. Empirically verify that the parameters of the inverse-gamma distribution lead to a prior probability of approximately $95\\%$ that  $\\sigma^2\\in[22,41]$.\n",
    "2. Derive the posterior density of $\\sigma^2$ corresponding to the following data: $183, 173, 181, 170, 176, 180, 187, 176, 171, 190, 184, 173, 176, 179, 181, 186$.\n",
    "    Then plot it together with the prior density.\n",
    "3. Compute the posterior density of the standard deviation $\\sigma$.\n",
    "\n",
    "#### Solution:\n",
    "\n",
    "**Preliminary note about methodology:**  \n",
    "Given the *high empiricism* required by the exercise, we assume in the following development a *computational-first* approach. This does not mean we will disregard the validity and the feasibility of analytically-obtained results (which we will in fact use); we will simply refer to them without a full proof of derivation. All analytical results referred to may be looked up in the (*great, by-the-way, and sadly*) still not published [chapter nr. 12 *“Bayesian Inference”* of *“Statistical Machine Learning”* – Liu & Wasserman, 2014](http://www.stat.cmu.edu/~larry/=sml/Bayes.pdf).\n",
    "In any case, such results that will be used afterwards, account for a *likelihood computation* and some *algebric manipulations*. Solution to **Exercise 4** contains a more detailed, *prototypical* analysis of *prior-conjugacy* derivation in a specific case."
   ]
  },
  {
   "cell_type": "code",
   "execution_count": 4,
   "metadata": {},
   "outputs": [
    {
     "name": "stdout",
     "output_type": "stream",
     "text": [
      "0.9464\n"
     ]
    }
   ],
   "source": [
    "# Answer to q. 1\n",
    "my_invgamma = distributions.InverseGamma(38.0, 1110.0)\n",
    "\n",
    "numsamples = 10000\n",
    "\n",
    "samples = my_invgamma([numsamples]).numpy()\n",
    "print(np.count_nonzero(np.logical_and(samples >= 22.0, samples < 41.0)) / numsamples) # We expect ~ 0.95"
   ]
  },
  {
   "cell_type": "markdown",
   "metadata": {},
   "source": [
    "**Answer to q. 2**  \n",
    "\n",
    "We use in what follows three relevant results from literature, i.e.:\n",
    "\n",
    "-   The fact that the *Inverse Gamma distribution* $InvGamma_{\\alpha, \\beta}(x)$ is a *conjugate prior* distribution w.r.t. the likelihood function for the variance of a Gaussian-distributed sample, known the mean of the generating distribution.\n",
    "-   The fact that *unbiased sample variance* is the *MLE-obtained* best estimator for the variance of a Gaussian distribution.\n",
    "-   The fact that the posterior of an *InvGamma-prior/known-mean-Gaussian-variance-likelihood* for a sample with $n$ elements is again an *InvGamma*, with parameters: $InvGamma_{\\alpha', \\beta'}$ such that $\\alpha' = \\alpha + \\frac{n}{2}; \\ \\beta' = \\beta + \\frac{n}{2} \\frac{1}{n} \\sum_{i=1}^n{(x_i - \\mu)^2} = \\beta + \\frac{1}{2} \\sum_{i=1}^n{(x_i - \\mu)^2}$, being $\\mu$ the known true mean of the Gaussian distribution and $x_i$ the value of each sample scalar.  \n",
    "\n",
    "We can now solve the exercise computationally."
   ]
  },
  {
   "cell_type": "code",
   "execution_count": 5,
   "metadata": {},
   "outputs": [
    {
     "name": "stdout",
     "output_type": "stream",
     "text": [
      "46.0 1380.0\n"
     ]
    }
   ],
   "source": [
    "my_mean = 180.0\n",
    "prioalpha = 38.0\n",
    "priobeta = 1110.0\n",
    "\n",
    "my_sample = np.array(\n",
    "    [\n",
    "        183.0,\n",
    "        173.0,\n",
    "        181.0,\n",
    "        170.0,\n",
    "        176.0,\n",
    "        180.0,\n",
    "        187.0,\n",
    "        176.0,\n",
    "        171.0,\n",
    "        190.0,\n",
    "        184.0,\n",
    "        173.0,\n",
    "        176.0,\n",
    "        179.0,\n",
    "        181.0,\n",
    "        186.0,\n",
    "    ]\n",
    ")\n",
    "\n",
    "my_samplesize = np.size(my_sample)\n",
    "\n",
    "newalpha = prioalpha + (my_samplesize / 2.0)\n",
    "\n",
    "msdev = np.sum((my_sample - my_mean) ** 2) / my_samplesize\n",
    "newbeta = priobeta + (my_samplesize / 2.0) * msdev\n",
    "\n",
    "print(newalpha, newbeta)"
   ]
  },
  {
   "cell_type": "markdown",
   "metadata": {},
   "source": [
    "Our posterior distribution is:  \n",
    "$InvGamma_{\\alpha', \\beta'}$ such that $\\alpha' = 46; \\ \\beta' = 1380$"
   ]
  },
  {
   "cell_type": "code",
   "execution_count": 6,
   "metadata": {},
   "outputs": [
    {
     "data": {
      "image/png": "[encoded data removed]",
      "text/plain": [
       "<Figure size 432x288 with 1 Axes>"
      ]
     },
     "metadata": {
      "needs_background": "light"
     },
     "output_type": "display_data"
    }
   ],
   "source": [
    "# Plots (obtained via sampling; just wanted to use ProbProg also for that...)\n",
    "\n",
    "my_invgamma = distributions.InverseGamma(prioalpha, priobeta)\n",
    "posterior = distributions.InverseGamma(newalpha, newbeta)\n",
    "\n",
    "sns.distplot(my_invgamma([10000]).numpy(), hist=False, rug=False, color=\"blue\")\n",
    "sns.distplot(posterior([10000]).numpy(), hist=False, rug=False, color=\"red\")\n",
    "\n",
    "plt.show()\n",
    "\n",
    "# Blue plot: Prior\n",
    "# Red plot: Posterior\n",
    "\n",
    "# NOTE: These plots, in exact form, could have been obtained throught the SciPy statistical functions and a \"canonical\" graph plot."
   ]
  },
  {
   "cell_type": "code",
   "execution_count": 7,
   "metadata": {},
   "outputs": [
    {
     "data": {
      "image/png": "[encoded data removed]",
      "text/plain": [
       "<Figure size 432x288 with 1 Axes>"
      ]
     },
     "metadata": {
      "needs_background": "light"
     },
     "output_type": "display_data"
    }
   ],
   "source": [
    "# We can computationally generate and plot the (approximate) distribution p.d.f. of the posterior standard deviation via simulation, exploiting (finally!) a bit the potentialities of ProbProg.\n",
    "# Full steam ahead! :)\n",
    "\n",
    "accum = np.sqrt(posterior([10000]).numpy())  # Empirical, computationally-obtained PDF (ePDF), approximate\n",
    "sns.distplot(accum, hist=False, rug=False, color=\"orange\")\n",
    "plt.show()"
   ]
  },
  {
   "cell_type": "markdown",
   "metadata": {},
   "source": [
    "### Exercise 4\n",
    "\n",
    "Prove that the Gamma distribution is the conjugate prior distribution for the Exponential likelihood.\n",
    "\n",
    "#### Solution:\n",
    "\n",
    "In the framework of *Bayesian statistics*, we say that a probability density function – belonging to a particular family – $P(\\boldsymbol{\\theta})$ is the *conjugate prior distribution* for a given likelihood function $P(\\boldsymbol{x}\\ |\\ \\boldsymbol{\\theta})$, if the so-computed (i.e. according to *Bayes’ rule*) posterior density function $P(\\boldsymbol{\\theta}\\ |\\ \\boldsymbol{x})$ belongs to the same family as the prior $P(\\boldsymbol{\\theta})$.\n",
    "\n",
    "We consider the 1-dimensional case.\n",
    "\n",
    "In our scenario, it is given that that:\n",
    "\n",
    "-   $P(x\\ |\\ \\theta)$ is *exponential*, i.e. $P(x\\ |\\ \\theta) = \\begin{cases} \\theta \\ e^{-{\\theta} x} & \\text{for } x \\geq 0\\\\0 & \\text{for } x < 0 \\end{cases}$\n",
    "-   $P({\\theta})$ is a *Gamma distribution*, i.e. $P_{\\alpha, \\beta}({\\theta}) = \\frac{\\beta^{\\alpha}}{\\Gamma(\\alpha)} \\ {\\theta}^{\\alpha - 1} \\ e^{-{\\beta}{\\theta}}$, where $\\Gamma(\\alpha)$ is Euler’s *Gamma function* computed in $\\alpha$.\n",
    "\n",
    "We need to show that, after the application of *Bayes’ rule* to such distributions – for a set of sampled *i.i.d.* data points determining the *Bayesian update* –, also obtained $P({\\theta}\\ |\\ \\boldsymbol{x})$ is in the form of a *Gamma distribution*.\n",
    "\n",
    "We will call $\\boldsymbol{x} = x_1, \\dots, x_n$ the data vector comprised of $n$ *i.i.d.* scalars whose (marginal) distribution has *exponential likelihood* given $\\theta$.\n",
    "\n",
    "Since the term at the denominator $P(\\boldsymbol{x})$ – the so-called *marginal likelihood* – is fixed for such data, we can ignore it in the following, provided proper normalization is guaranteed.\n",
    "\n",
    "Since, from *Bayes’ rule*,\n",
    "\n",
    "$P({\\theta}\\ |\\ \\boldsymbol{x}) \\propto P(\\boldsymbol{x} \\ |\\ \\theta) \\ P({\\theta})$\n",
    "\n",
    "in our case:\n",
    "\n",
    "$P({\\theta}\\ |\\ \\boldsymbol{x}) \\propto \\prod_{i = 1}^n{\\theta \\ e^{-{\\theta} x_i}} \\ \\frac{\\beta^{\\alpha}}{\\Gamma(\\alpha)} \\ {\\theta}^{\\alpha - 1} \\ e^{-{\\beta}{\\theta}}$,\n",
    "\n",
    "where $\\prod_{i = 1}^n{\\theta \\ e^{-{\\theta} x_i}}$ is in fact the computed joint likelihood for our sample.\n",
    "\n",
    "Thus:\n",
    "\n",
    "$P(\\theta\\ |\\ \\boldsymbol{x}) \\propto \\prod_{i = 1}^n{\\theta \\ e^{-{\\theta} x_i}} \\ \\frac{\\beta^{\\alpha}}{\\Gamma(\\alpha)} \\ {\\theta}^{\\alpha - 1} \\ e^{-{\\beta}{\\theta}} \\\\\\propto{\\theta^n \\ e^{-{\\theta} \\sum_{i = 1}^n x_i}} \\ \\frac{\\beta^{\\alpha}}{\\Gamma(\\alpha)} \\ {\\theta}^{\\alpha - 1} \\ e^{-{\\beta}{\\theta}} \\\\\\propto{\\theta}^{\\alpha + n -1} \\ e^{-{\\beta}{\\ \\theta}{\\ \\sum_{i = 1}^n x_i}}$,\n",
    "\n",
    "It follows that $P({\\theta}\\ |\\ \\boldsymbol{x}) \\propto Gamma(\\alpha + n,\\ \\beta \\sum_{i = 1}^n x_i)$, guaranteed proper normalization."
   ]
  }
 ],
 "metadata": {
  "kernelspec": {
   "display_name": "Python 3",
   "language": "python",
   "name": "python3"
  },
  "language_info": {
   "codemirror_mode": {
    "name": "ipython",
    "version": 3
   },
   "file_extension": ".py",
   "mimetype": "text/x-python",
   "name": "python",
   "nbconvert_exporter": "python",
   "pygments_lexer": "ipython3",
   "version": "3.7.7"
  },
  "latex_envs": {
   "LaTeX_envs_menu_present": true,
   "autoclose": true,
   "autocomplete": true,
   "bibliofile": "biblio.bib",
   "cite_by": "apalike",
   "current_citInitial": 1,
   "eqLabelWithNumbers": true,
   "eqNumInitial": 1,
   "hotkeys": {
    "equation": "Ctrl-E",
    "itemize": "Ctrl-I"
   },
   "labels_anchors": false,
   "latex_user_defs": false,
   "report_style_numbering": false,
   "user_envs_cfg": false
  },
  "varInspector": {
   "cols": {
    "lenName": 16,
    "lenType": 16,
    "lenVar": 40
   },
   "kernels_config": {
    "python": {
     "delete_cmd_postfix": "",
     "delete_cmd_prefix": "del ",
     "library": "var_list.py",
     "varRefreshCmd": "print(var_dic_list())"
    },
    "r": {
     "delete_cmd_postfix": ") ",
     "delete_cmd_prefix": "rm(",
     "library": "var_list.r",
     "varRefreshCmd": "cat(var_dic_list()) "
    }
   },
   "types_to_exclude": [
    "module",
    "function",
    "builtin_function_or_method",
    "instance",
    "_Feature"
   ],
   "window_display": false
  }
 },
 "nbformat": 4,
 "nbformat_minor": 4
}
